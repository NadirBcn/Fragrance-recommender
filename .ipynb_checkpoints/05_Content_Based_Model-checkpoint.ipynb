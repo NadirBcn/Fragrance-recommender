{
 "cells": [
  {
   "cell_type": "code",
   "execution_count": 13,
   "id": "cb9da042",
   "metadata": {},
   "outputs": [],
   "source": [
    "import pandas as pd\n",
    "import re\n",
    "import pickle"
   ]
  },
  {
   "cell_type": "code",
   "execution_count": 2,
   "id": "76a7a86d",
   "metadata": {},
   "outputs": [
    {
     "data": {
      "text/html": [
       "<div>\n",
       "<style scoped>\n",
       "    .dataframe tbody tr th:only-of-type {\n",
       "        vertical-align: middle;\n",
       "    }\n",
       "\n",
       "    .dataframe tbody tr th {\n",
       "        vertical-align: top;\n",
       "    }\n",
       "\n",
       "    .dataframe thead th {\n",
       "        text-align: right;\n",
       "    }\n",
       "</style>\n",
       "<table border=\"1\" class=\"dataframe\">\n",
       "  <thead>\n",
       "    <tr style=\"text-align: right;\">\n",
       "      <th></th>\n",
       "      <th>product_id</th>\n",
       "      <th>Brand</th>\n",
       "      <th>Name</th>\n",
       "      <th>Description</th>\n",
       "      <th>recommended</th>\n",
       "      <th>not_recommended</th>\n",
       "      <th>overall_rating</th>\n",
       "      <th>Family</th>\n",
       "      <th>Scent</th>\n",
       "      <th>Notes</th>\n",
       "      <th>...</th>\n",
       "      <th>User91</th>\n",
       "      <th>User92</th>\n",
       "      <th>User93</th>\n",
       "      <th>User94</th>\n",
       "      <th>User95</th>\n",
       "      <th>User96</th>\n",
       "      <th>User97</th>\n",
       "      <th>User98</th>\n",
       "      <th>User99</th>\n",
       "      <th>User100</th>\n",
       "    </tr>\n",
       "  </thead>\n",
       "  <tbody>\n",
       "    <tr>\n",
       "      <th>0</th>\n",
       "      <td>P474860</td>\n",
       "      <td>Sol de Janeiro</td>\n",
       "      <td>Anitta x Sol de Janeiro Perfume Mist</td>\n",
       "      <td>Fragrance Family: Warm &amp; SpicyScent Type:Warm ...</td>\n",
       "      <td>310</td>\n",
       "      <td>69</td>\n",
       "      <td>4.2375</td>\n",
       "      <td>Warm &amp; Spicy</td>\n",
       "      <td>Unknown</td>\n",
       "      <td>Passionfruit Nectar, Tiger Orchid, Pink Patchouli</td>\n",
       "      <td>...</td>\n",
       "      <td>5</td>\n",
       "      <td>5</td>\n",
       "      <td>4</td>\n",
       "      <td>2</td>\n",
       "      <td>4</td>\n",
       "      <td>5</td>\n",
       "      <td>5</td>\n",
       "      <td>5</td>\n",
       "      <td>4</td>\n",
       "      <td>2</td>\n",
       "    </tr>\n",
       "    <tr>\n",
       "      <th>1</th>\n",
       "      <td>P474316</td>\n",
       "      <td>Dior</td>\n",
       "      <td>Miss Dior Eau de Parfum</td>\n",
       "      <td>Fragrance Family: FloralsScent Type: Warm Flor...</td>\n",
       "      <td>2000</td>\n",
       "      <td>149</td>\n",
       "      <td>4.5291</td>\n",
       "      <td>Floral</td>\n",
       "      <td>Warm Florals</td>\n",
       "      <td>Unknown</td>\n",
       "      <td>...</td>\n",
       "      <td>5</td>\n",
       "      <td>5</td>\n",
       "      <td>4</td>\n",
       "      <td>5</td>\n",
       "      <td>5</td>\n",
       "      <td>5</td>\n",
       "      <td>5</td>\n",
       "      <td>5</td>\n",
       "      <td>4</td>\n",
       "      <td>5</td>\n",
       "    </tr>\n",
       "    <tr>\n",
       "      <th>2</th>\n",
       "      <td>P480364</td>\n",
       "      <td>Valentino</td>\n",
       "      <td>Born in Roma Coral Fantasy Eau de Parfum Trave...</td>\n",
       "      <td>Fragrance Family: FloralScent Type: Fruity Flo...</td>\n",
       "      <td>19</td>\n",
       "      <td>3</td>\n",
       "      <td>4.1818</td>\n",
       "      <td>Floral</td>\n",
       "      <td>Fruity Florals</td>\n",
       "      <td>Orange, Jasmine, Rose</td>\n",
       "      <td>...</td>\n",
       "      <td>5</td>\n",
       "      <td>1</td>\n",
       "      <td>5</td>\n",
       "      <td>5</td>\n",
       "      <td>2</td>\n",
       "      <td>5</td>\n",
       "      <td>5</td>\n",
       "      <td>1</td>\n",
       "      <td>5</td>\n",
       "      <td>5</td>\n",
       "    </tr>\n",
       "  </tbody>\n",
       "</table>\n",
       "<p>3 rows × 112 columns</p>\n",
       "</div>"
      ],
      "text/plain": [
       "  product_id           Brand  \\\n",
       "0    P474860  Sol de Janeiro   \n",
       "1    P474316            Dior   \n",
       "2    P480364       Valentino   \n",
       "\n",
       "                                                Name  \\\n",
       "0               Anitta x Sol de Janeiro Perfume Mist   \n",
       "1                            Miss Dior Eau de Parfum   \n",
       "2  Born in Roma Coral Fantasy Eau de Parfum Trave...   \n",
       "\n",
       "                                         Description  recommended  \\\n",
       "0  Fragrance Family: Warm & SpicyScent Type:Warm ...          310   \n",
       "1  Fragrance Family: FloralsScent Type: Warm Flor...         2000   \n",
       "2  Fragrance Family: FloralScent Type: Fruity Flo...           19   \n",
       "\n",
       "   not_recommended  overall_rating        Family           Scent  \\\n",
       "0               69          4.2375  Warm & Spicy         Unknown   \n",
       "1              149          4.5291        Floral    Warm Florals   \n",
       "2                3          4.1818        Floral  Fruity Florals   \n",
       "\n",
       "                                               Notes  ... User91  User92  \\\n",
       "0  Passionfruit Nectar, Tiger Orchid, Pink Patchouli  ...      5       5   \n",
       "1                                            Unknown  ...      5       5   \n",
       "2                              Orange, Jasmine, Rose  ...      5       1   \n",
       "\n",
       "   User93  User94  User95  User96  User97  User98  User99  User100  \n",
       "0       4       2       4       5       5       5       4        2  \n",
       "1       4       5       5       5       5       5       4        5  \n",
       "2       5       5       2       5       5       1       5        5  \n",
       "\n",
       "[3 rows x 112 columns]"
      ]
     },
     "execution_count": 2,
     "metadata": {},
     "output_type": "execute_result"
    }
   ],
   "source": [
    "df = pd.read_csv('./data/05_data_fragrances.csv')\n",
    "list_fragrance = pd.read_csv('./data/05_data_top_fragrances.csv')\n",
    "\n",
    "df.head(3)"
   ]
  },
  {
   "cell_type": "code",
   "execution_count": 3,
   "id": "a1cb95ea",
   "metadata": {},
   "outputs": [],
   "source": [
    "df['Clean_Description'] = df['Description'].apply(lambda x: re.sub('[^a-zA-Z]',' ', x))\n",
    "df['Clean_Description'] = df['Clean_Description'].apply(lambda x: re.sub('\\s+',' ', x))\n",
    "df['Clean_Description'] = df['Clean_Description'].apply(lambda x: x.replace('Scent Type',' Scent Type').replace('Fragrance Description',' Fragrance Description').replace('Key Notes',' Key Notes').replace('  Scent',' Scent').replace('  Fragrance Description',' Fragrance Description'))\n",
    "df['Clean_Description'] = df['Clean_Description'].str.lower()"
   ]
  },
  {
   "cell_type": "code",
   "execution_count": 4,
   "id": "cf92c078",
   "metadata": {},
   "outputs": [],
   "source": [
    "# df['Clean_Description'] = df['Clean_Description'].apply(lambda x: x.replace('  scent type',' scent type').replace('  fragrance',' fragrance'))"
   ]
  },
  {
   "cell_type": "code",
   "execution_count": 5,
   "id": "6baf37f1",
   "metadata": {},
   "outputs": [
    {
     "data": {
      "text/plain": [
       "'set description discover scents inspired by precious moments of the past with five of maison margiela s decadent fragrances beach walk jazz club lazy sunday morning by the fireplace and bubble bath beach walk is a modern floral fragrance that evokes the memory of a stroll along the ocean capturing the sunny scents of a summer day with radiant notes of lemon coconut milk and cedarwood jazz club is a woody and spicy fragrance that is reminiscent of an anthology of classic cocktails and coppery tones through balmy rich notes of rum absolute blended with an underscore of tobacco leaf absolute lazy sunday morning is a classic floral fragrance that recalls soft velvety skin enveloped in fresh and comfortable linens through notes of fresh pear iris and tender white musk by the fireplace is a warm and spicy fragrance that evokes the comforting sensation of a crackling fireplace beside a frosted winter landscape with enveloping notes of clove chestnut and vanilla accord bubble bath is inspired by the warmth and relaxation of a warm bath where the soap bubble accord is blended with the floral scents of rose super essence jasmine and lavender layered atop a grounding musk perfume this set contains x oz ml fragrances in beach walk jazz club lazy sunday morning by the fireplace bubble bath'"
      ]
     },
     "execution_count": 5,
     "metadata": {},
     "output_type": "execute_result"
    }
   ],
   "source": [
    "df['Clean_Description'][3]"
   ]
  },
  {
   "cell_type": "markdown",
   "id": "77ff08ac",
   "metadata": {},
   "source": [
    "### Content Based Recommendation"
   ]
  },
  {
   "cell_type": "code",
   "execution_count": 6,
   "id": "00660dc0",
   "metadata": {},
   "outputs": [],
   "source": [
    "from sklearn.feature_extraction.text import TfidfVectorizer\n",
    "\n",
    "tfidf = TfidfVectorizer(stop_words='english')\n",
    "\n",
    "tfidf_matrix = tfidf.fit_transform(df['Clean_Description'])\n",
    "\n"
   ]
  },
  {
   "cell_type": "code",
   "execution_count": 7,
   "id": "dd3db808",
   "metadata": {},
   "outputs": [
    {
     "data": {
      "text/plain": [
       "(1182, 6677)"
      ]
     },
     "execution_count": 7,
     "metadata": {},
     "output_type": "execute_result"
    }
   ],
   "source": [
    "tfidf_matrix.shape"
   ]
  },
  {
   "cell_type": "code",
   "execution_count": 8,
   "id": "733e8392",
   "metadata": {},
   "outputs": [
    {
     "name": "stdout",
     "output_type": "stream",
     "text": [
      "brand_name\n",
      "Sol de Janeiro, Anitta x Sol de Janeiro Perfume Mist                                      0\n",
      "Dior, Miss Dior Eau de Parfum                                                             1\n",
      "Valentino, Born in Roma Coral Fantasy Eau de Parfum Travel Spray                          2\n",
      "Maison Margiela, ‘REPLICA' Mini Coffret Set                                               3\n",
      "Prada, Candy Eau de Parfum  Mini and Rollerball Set                                       4\n",
      "                                                                                       ... \n",
      "Sol de Janeiro, Brazilian Crush Cheirosa ’40 Bom Dia Hair & Body Fragrance Mist        1177\n",
      "Carolina Herrera, Good Girl Eau de Parfum                                              1178\n",
      "CHANEL, CHANCE EAU TENDRE Eau de Toilette                                              1179\n",
      "Sol de Janeiro, Brazilian Crush Cheirosa ’62 Bum Bum Hair & Body Fragrance Mist        1180\n",
      "Sol de Janeiro, Brazilian Crush Cheirosa ’68 Beija Flor™ Hair & Body Fragrance Mist    1181\n",
      "Length: 1182, dtype: int64\n"
     ]
    }
   ],
   "source": [
    "indices = pd.Series(df.index,index=df['brand_name']).drop_duplicates()\n",
    "print(indices)"
   ]
  },
  {
   "cell_type": "code",
   "execution_count": 9,
   "id": "7669d4f3",
   "metadata": {},
   "outputs": [
    {
     "name": "stdout",
     "output_type": "stream",
     "text": [
      "0\n"
     ]
    }
   ],
   "source": [
    "print(indices['Sol de Janeiro, Anitta x Sol de Janeiro Perfume Mist'])"
   ]
  },
  {
   "cell_type": "code",
   "execution_count": 10,
   "id": "031ec1f5",
   "metadata": {},
   "outputs": [],
   "source": [
    "from sklearn.metrics.pairwise import linear_kernel\n",
    "\n",
    "cosine_sim = linear_kernel(tfidf_matrix,tfidf_matrix)\n",
    "\n"
   ]
  },
  {
   "cell_type": "code",
   "execution_count": 11,
   "id": "faae43b2",
   "metadata": {},
   "outputs": [],
   "source": [
    "def get_recommendation(frag_brand_name,cosine_sim=cosine_sim):\n",
    "    \n",
    "    # Get the indice of the given fragrance\n",
    "    fragrance_indice = indices[frag_brand_name]\n",
    "\n",
    "    # Calculate the similarity between the given fragrance and all the other fragrances and put the result in a List\n",
    "    sim_score = list(enumerate(cosine_sim[fragrance_indice]))\n",
    "    \n",
    "    # Sort the previous list from highest similarity to the lowest\n",
    "    sim_score = sorted(sim_score,key=lambda x: x[1],reverse=True)\n",
    "    \n",
    "    # Save only the top 10 similar fragrances\n",
    "    sim_score = sim_score[1:11]\n",
    "    \n",
    "    # Save The indices for the top 10 most similar fragrances\n",
    "    frag_indices = [i[0] for i in sim_score]\n",
    "    \n",
    "    return df['Name'].iloc[frag_indices]\n"
   ]
  },
  {
   "cell_type": "code",
   "execution_count": 12,
   "id": "ac5bf3a6",
   "metadata": {},
   "outputs": [
    {
     "data": {
      "text/plain": [
       "341                   Miss Dior Eau de Toilette\n",
       "777      Miss Dior Eau de Toilette Roller-pearl\n",
       "1026    Miss Dior Blooming Bouquet Roller-pearl\n",
       "1128                 Miss Dior Blooming Bouquet\n",
       "823         Miss Dior Rose N'Roses Roller-pearl\n",
       "888      Miss Dior Rose N'Roses Eau de Toilette\n",
       "821               Miss Dior Absolutely Blooming\n",
       "1079              ’REPLICA’ Lazy Sunday Morning\n",
       "761                         Miss Dior Hair Mist\n",
       "90                           Miss Dior Body Oil\n",
       "Name: Name, dtype: object"
      ]
     },
     "execution_count": 12,
     "metadata": {},
     "output_type": "execute_result"
    }
   ],
   "source": [
    "# Get the 10 most similar perfumes \n",
    "get_recommendation('Dior, Miss Dior Eau de Parfum')"
   ]
  },
  {
   "cell_type": "markdown",
   "id": "1e488c51",
   "metadata": {},
   "source": [
    "### Pickle our datafame and cosine_similarity"
   ]
  },
  {
   "cell_type": "code",
   "execution_count": 15,
   "id": "648e0688",
   "metadata": {},
   "outputs": [],
   "source": [
    "pickle.dump(df.to_dict(),open('fragrances.pkl','wb'))"
   ]
  },
  {
   "cell_type": "code",
   "execution_count": 18,
   "id": "7639fb5f",
   "metadata": {},
   "outputs": [],
   "source": [
    "pickle.dump(cosine_sim,open('cos_sim.pkl','wb'))"
   ]
  }
 ],
 "metadata": {
  "kernelspec": {
   "display_name": "Python 3 (ipykernel)",
   "language": "python",
   "name": "python3"
  },
  "language_info": {
   "codemirror_mode": {
    "name": "ipython",
    "version": 3
   },
   "file_extension": ".py",
   "mimetype": "text/x-python",
   "name": "python",
   "nbconvert_exporter": "python",
   "pygments_lexer": "ipython3",
   "version": "3.9.7"
  }
 },
 "nbformat": 4,
 "nbformat_minor": 5
}
