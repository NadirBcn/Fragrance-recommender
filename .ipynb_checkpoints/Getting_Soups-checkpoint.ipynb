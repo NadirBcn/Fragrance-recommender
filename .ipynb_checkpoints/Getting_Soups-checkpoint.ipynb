{
 "cells": [
  {
   "cell_type": "code",
   "execution_count": 1,
   "id": "8caee843",
   "metadata": {},
   "outputs": [],
   "source": [
    "import pandas as pd\n",
    "import numpy as np\n",
    "import requests\n",
    "from bs4 import BeautifulSoup\n",
    "import time\n",
    "import scrapy\n",
    "\n",
    "from selenium import webdriver\n",
    "from selenium.webdriver.support.ui import WebDriverWait\n",
    "from selenium.webdriver.support import expected_conditions as EC\n",
    "from selenium.webdriver.common.by import By"
   ]
  },
  {
   "cell_type": "code",
   "execution_count": 2,
   "id": "394276b4",
   "metadata": {},
   "outputs": [
    {
     "data": {
      "text/html": [
       "<div>\n",
       "<style scoped>\n",
       "    .dataframe tbody tr th:only-of-type {\n",
       "        vertical-align: middle;\n",
       "    }\n",
       "\n",
       "    .dataframe tbody tr th {\n",
       "        vertical-align: top;\n",
       "    }\n",
       "\n",
       "    .dataframe thead th {\n",
       "        text-align: right;\n",
       "    }\n",
       "</style>\n",
       "<table border=\"1\" class=\"dataframe\">\n",
       "  <thead>\n",
       "    <tr style=\"text-align: right;\">\n",
       "      <th></th>\n",
       "      <th>category</th>\n",
       "      <th>URL</th>\n",
       "    </tr>\n",
       "  </thead>\n",
       "  <tbody>\n",
       "    <tr>\n",
       "      <th>0</th>\n",
       "      <td>fragrance</td>\n",
       "      <td>https://www.sephora.com/product/sol-de-janeiro...</td>\n",
       "    </tr>\n",
       "    <tr>\n",
       "      <th>1</th>\n",
       "      <td>fragrance</td>\n",
       "      <td>https://www.sephora.com/product/brazilian-crus...</td>\n",
       "    </tr>\n",
       "    <tr>\n",
       "      <th>2</th>\n",
       "      <td>fragrance</td>\n",
       "      <td>https://www.sephora.com/product/chance-eau-ten...</td>\n",
       "    </tr>\n",
       "    <tr>\n",
       "      <th>3</th>\n",
       "      <td>fragrance</td>\n",
       "      <td>https://www.sephora.com/product/yves-saint-lau...</td>\n",
       "    </tr>\n",
       "    <tr>\n",
       "      <th>4</th>\n",
       "      <td>fragrance</td>\n",
       "      <td>https://www.sephora.com/product/sol-de-janeiro...</td>\n",
       "    </tr>\n",
       "  </tbody>\n",
       "</table>\n",
       "</div>"
      ],
      "text/plain": [
       "    category                                                URL\n",
       "0  fragrance  https://www.sephora.com/product/sol-de-janeiro...\n",
       "1  fragrance  https://www.sephora.com/product/brazilian-crus...\n",
       "2  fragrance  https://www.sephora.com/product/chance-eau-ten...\n",
       "3  fragrance  https://www.sephora.com/product/yves-saint-lau...\n",
       "4  fragrance  https://www.sephora.com/product/sol-de-janeiro..."
      ]
     },
     "execution_count": 2,
     "metadata": {},
     "output_type": "execute_result"
    }
   ],
   "source": [
    "#reading in the urls previously scrapped in 0_Getting_Data_Urls.ipynb\n",
    "urls = pd.read_csv('C:/Users/Nadir/Desktop/B/Projects/Fragrance_project/data/product_urls.csv')\n",
    "urls.head()"
   ]
  },
  {
   "cell_type": "code",
   "execution_count": null,
   "id": "01aea7a9",
   "metadata": {},
   "outputs": [],
   "source": [
    "# browser = webdriver.Chrome()\n",
    "#56.0.2924.76\n",
    "for i in urls.index: #for every URL in my urls dataframe\n",
    "    url = urls['URL'][i]\n",
    "    headers = {'User-Agent': 'Mozilla/5.0 (Windows NT 6.1; WOW64) AppleWebKit/537.36 (KHTML, like Gecko) Chrome/56.0.2924.76 Safari/537.36', \"Upgrade-Insecure-Requests\": \"1\",\"DNT\": \"1\",\"Accept\": \"text/html,application/xhtml+xml,application/xml;q=0.9,*/*;q=0.8\",\"Accept-Language\": \"en-US,en;q=0.5\",\"Accept-Encoding\": \"gzip, deflate\"}\n",
    "#     sada = browser.get(url)\n",
    "#     source = browser.page_source\n",
    "    \n",
    "    res = requests.get(url,headers=headers)\n",
    "    time.sleep(3) #taking a break before moving on so that Sephora doesn't block\n",
    "    \n",
    "#     if request fails print the error\n",
    "    if res.status_code != 200:\n",
    "        print('error when requestion {}'.format(url))\n",
    "        break\n",
    "        \n",
    "    soup = BeautifulSoup(res.content, 'html.parser') #getting the soup of the requested URL data\n",
    "        #source or res.content - html.parser or lxml\n",
    "    \n",
    "    path = \"C:/Users/Nadir/Desktop/B/Projects/Fragrance_project/data/soups/soup\"+str(i+1438)+\".html\"\n",
    "    \n",
    "    with open(path, 'w',encoding=\"utf-8\") as f: #saving soup as an .html file for later use\n",
    "        f.write(str(soup))"
   ]
  },
  {
   "cell_type": "code",
   "execution_count": null,
   "id": "0a8106fa",
   "metadata": {},
   "outputs": [],
   "source": []
  }
 ],
 "metadata": {
  "kernelspec": {
   "display_name": "Python 3 (ipykernel)",
   "language": "python",
   "name": "python3"
  },
  "language_info": {
   "codemirror_mode": {
    "name": "ipython",
    "version": 3
   },
   "file_extension": ".py",
   "mimetype": "text/x-python",
   "name": "python",
   "nbconvert_exporter": "python",
   "pygments_lexer": "ipython3",
   "version": "3.9.7"
  }
 },
 "nbformat": 4,
 "nbformat_minor": 5
}
