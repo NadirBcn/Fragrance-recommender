{
 "cells": [
  {
   "cell_type": "code",
   "execution_count": 9,
   "id": "acc48512",
   "metadata": {},
   "outputs": [],
   "source": [
    "from selenium.common.exceptions import NoSuchElementException, ElementClickInterceptedException\n",
    "from selenium import webdriver\n",
    "import time\n",
    "import pandas as pd\n",
    "\n",
    "from selenium.webdriver.support.ui import WebDriverWait\n",
    "from selenium.webdriver.common.by import By\n",
    "from selenium.webdriver.support import expected_conditions as EC\n",
    "from selenium.webdriver.common.action_chains import ActionChains\n",
    "from selenium.webdriver.common.keys import Keys"
   ]
  },
  {
   "cell_type": "code",
   "execution_count": 2,
   "id": "19b6cb89",
   "metadata": {},
   "outputs": [],
   "source": [
    "urls = pd.read_csv('C:/Users/Nadir/Desktop/B/Projects/Fragrance_project/data/product_urls.csv')"
   ]
  },
  {
   "cell_type": "code",
   "execution_count": 3,
   "id": "b739a9a5",
   "metadata": {},
   "outputs": [],
   "source": [
    "def scrollDown(driver, n_scroll):\n",
    "    body = driver.find_element_by_tag_name(\"body\")\n",
    "    while n_scroll >= 0:\n",
    "        body.send_keys(Keys.PAGE_DOWN)\n",
    "        n_scroll -= 1\n",
    "    return driver"
   ]
  },
  {
   "cell_type": "code",
   "execution_count": null,
   "id": "f1368332",
   "metadata": {},
   "outputs": [
    {
     "name": "stderr",
     "output_type": "stream",
     "text": [
      "C:\\Users\\Nadir\\AppData\\Local\\Temp/ipykernel_11300/3731909792.py:2: DeprecationWarning: executable_path has been deprecated, please pass in a Service object\n",
      "  driver = webdriver.Chrome(executable_path = chrome_path)\n"
     ]
    },
    {
     "name": "stdout",
     "output_type": "stream",
     "text": [
      "Progress: 0\n"
     ]
    },
    {
     "name": "stderr",
     "output_type": "stream",
     "text": [
      "C:\\Users\\Nadir\\AppData\\Local\\Temp/ipykernel_11300/3731909792.py:17: DeprecationWarning: find_element_by_class_name is deprecated. Please use find_element(by=By.CLASS_NAME, value=name) instead\n",
      "  if driver.find_element_by_class_name('css-2td14d.e65zztl0').is_displayed():\n",
      "C:\\Users\\Nadir\\AppData\\Local\\Temp/ipykernel_11300/3731909792.py:25: DeprecationWarning: find_element_by_class_name is deprecated. Please use find_element(by=By.CLASS_NAME, value=name) instead\n",
      "  btn = driver.find_element_by_class_name('css-1kna575').click()\n",
      "C:\\Users\\Nadir\\AppData\\Local\\Temp/ipykernel_11300/1452244666.py:2: DeprecationWarning: find_element_by_tag_name is deprecated. Please use find_element(by=By.TAG_NAME, value=name) instead\n",
      "  body = driver.find_element_by_tag_name(\"body\")\n",
      "C:\\Users\\Nadir\\AppData\\Local\\Temp/ipykernel_11300/3731909792.py:36: DeprecationWarning: find_elements_by_class_name is deprecated. Please use find_elements(by=By.CLASS_NAME, value=name) instead\n",
      "  slug = driver.find_elements_by_class_name('css-klx76') #look for the urls of products\n",
      "C:\\Users\\Nadir\\AppData\\Local\\Temp/ipykernel_11300/3731909792.py:44: DeprecationWarning: find_element_by_xpath is deprecated. Please use find_element(by=By.XPATH, value=xpath) instead\n",
      "  what_it_is = driver.find_element_by_xpath('/html/body/div[2]/main/div[1]/div[6]/div[2]/div/div/p[1]').text\n",
      "C:\\Users\\Nadir\\AppData\\Local\\Temp/ipykernel_11300/3731909792.py:49: DeprecationWarning: find_element_by_xpath is deprecated. Please use find_element(by=By.XPATH, value=xpath) instead\n",
      "  family = driver.find_element_by_xpath('/html/body/div[2]/main/div[1]/div[6]/div[2]/div/div/p[2]').text\n",
      "C:\\Users\\Nadir\\AppData\\Local\\Temp/ipykernel_11300/3731909792.py:54: DeprecationWarning: find_element_by_xpath is deprecated. Please use find_element(by=By.XPATH, value=xpath) instead\n",
      "  type_ = driver.find_element_by_xpath('/html/body/div[2]/main/div[1]/div[6]/div[2]/div/div/p[3]').text\n",
      "C:\\Users\\Nadir\\AppData\\Local\\Temp/ipykernel_11300/3731909792.py:59: DeprecationWarning: find_element_by_xpath is deprecated. Please use find_element(by=By.XPATH, value=xpath) instead\n",
      "  note = driver.find_element_by_xpath('/html/body/div[2]/main/div[1]/div[6]/div[2]/div/div/p[4]').text\n",
      "C:\\Users\\Nadir\\AppData\\Local\\Temp/ipykernel_11300/3731909792.py:64: DeprecationWarning: find_element_by_xpath is deprecated. Please use find_element(by=By.XPATH, value=xpath) instead\n",
      "  price = driver.find_element_by_xpath('/html/body/div[2]/main/div[1]/div[1]/div[1]/div[2]/p/span/span[1]/b').text\n"
     ]
    },
    {
     "name": "stdout",
     "output_type": "stream",
     "text": [
      "Progress: 1\n",
      "Progress: 2\n"
     ]
    }
   ],
   "source": [
    "chrome_path = \"C:/Users/Nadir/Desktop/B/Projects/Fragrance_project/chromedriver\"\n",
    "driver = webdriver.Chrome(executable_path = chrome_path)\n",
    "\n",
    "cols = ['Price','About','family','scent_type','key_notes']\n",
    "final_df = pd.DataFrame(columns = ['cols'])\n",
    "\n",
    "about=[]\n",
    "\n",
    "for i in urls.index:\n",
    "    url = str(urls['URL'][i])  #Read url\n",
    "    driver.get(url)\n",
    "    time.sleep(1)\n",
    "    print(\"Progress: {}\".format(\"\" + str(len(about)) ) )\n",
    "    \n",
    "        \n",
    "    try: #check to see if the page is empty   \n",
    "        if driver.find_element_by_class_name('css-2td14d.e65zztl0').is_displayed():\n",
    "            break\n",
    "            \n",
    "    except:\n",
    "            #check to see if there is a pop up windew\n",
    "        try:\n",
    "            #exit the pop up window\n",
    "            #btn = driver.find_element_by_xpath('//*[@id=\"modalDialog\"]/button').click()\n",
    "            btn = driver.find_element_by_class_name('css-1kna575').click()\n",
    "            time.sleep(1)\n",
    "        except:\n",
    "            pass\n",
    "            \n",
    "            \n",
    "    #as scrolling check if there is any more room to scroll\n",
    "    old_len = 0\n",
    "    while True:\n",
    "            browser = scrollDown(driver, 20) #scroll down the page\n",
    "            time.sleep(1) #give it time to load\n",
    "            slug = driver.find_elements_by_class_name('css-klx76') #look for the urls of products\n",
    "            new_len = len(slug)\n",
    "            if old_len == new_len: #if the old length and new length are equal, the bottom of page was reached\n",
    "                break\n",
    "            else:\n",
    "                old_len = new_len\n",
    "    \n",
    "    try:\n",
    "        what_it_is = driver.find_element_by_xpath('/html/body/div[2]/main/div[1]/div[6]/div[2]/div/div/p[1]').text\n",
    "    except NoSuchElementException:\n",
    "        pass\n",
    "    \n",
    "    try:\n",
    "        family = driver.find_element_by_xpath('/html/body/div[2]/main/div[1]/div[6]/div[2]/div/div/p[2]').text\n",
    "    except NoSuchElementException:\n",
    "        pass\n",
    "    \n",
    "    try:\n",
    "        type_ = driver.find_element_by_xpath('/html/body/div[2]/main/div[1]/div[6]/div[2]/div/div/p[3]').text\n",
    "    except NoSuchElementException:\n",
    "        pass\n",
    "    \n",
    "    try:\n",
    "        note = driver.find_element_by_xpath('/html/body/div[2]/main/div[1]/div[6]/div[2]/div/div/p[4]').text\n",
    "    except NoSuchElementException:\n",
    "        pass\n",
    "    \n",
    "    try:\n",
    "        price = driver.find_element_by_xpath('/html/body/div[2]/main/div[1]/div[1]/div[1]/div[2]/p/span/span[1]/b').text\n",
    "    except NoSuchElementException:\n",
    "        pass\n",
    "    \n",
    "    \n",
    "    about.append({\"price\":price,\n",
    "                  \"what_it_is\":what_it_is,\n",
    "                 \"family\":family,\n",
    "                 \"type\":type_,\n",
    "                 \"note\":note})\n",
    "    \n",
    "    df = pd.DataFrame(about)\n",
    "\n",
    "    final_df = pd.concat([final_df, df], axis = 0, ignore_index = True) \n",
    "    \n",
    "#close the chrome\n",
    "driver.close()"
   ]
  },
  {
   "cell_type": "code",
   "execution_count": 16,
   "id": "9d92a71f",
   "metadata": {},
   "outputs": [
    {
     "data": {
      "text/html": [
       "<div>\n",
       "<style scoped>\n",
       "    .dataframe tbody tr th:only-of-type {\n",
       "        vertical-align: middle;\n",
       "    }\n",
       "\n",
       "    .dataframe tbody tr th {\n",
       "        vertical-align: top;\n",
       "    }\n",
       "\n",
       "    .dataframe thead th {\n",
       "        text-align: right;\n",
       "    }\n",
       "</style>\n",
       "<table border=\"1\" class=\"dataframe\">\n",
       "  <thead>\n",
       "    <tr style=\"text-align: right;\">\n",
       "      <th></th>\n",
       "      <th>about</th>\n",
       "    </tr>\n",
       "  </thead>\n",
       "  <tbody>\n",
       "    <tr>\n",
       "      <th>0</th>\n",
       "      <td>What it is:</td>\n",
       "    </tr>\n",
       "    <tr>\n",
       "      <th>1</th>\n",
       "      <td>Frag Family:</td>\n",
       "    </tr>\n",
       "  </tbody>\n",
       "</table>\n",
       "</div>"
      ],
      "text/plain": [
       "          about\n",
       "0   What it is:\n",
       "1  Frag Family:"
      ]
     },
     "execution_count": 16,
     "metadata": {},
     "output_type": "execute_result"
    }
   ],
   "source": [
    "df"
   ]
  },
  {
   "cell_type": "code",
   "execution_count": null,
   "id": "16ef25c1",
   "metadata": {},
   "outputs": [],
   "source": []
  }
 ],
 "metadata": {
  "kernelspec": {
   "display_name": "Python 3 (ipykernel)",
   "language": "python",
   "name": "python3"
  },
  "language_info": {
   "codemirror_mode": {
    "name": "ipython",
    "version": 3
   },
   "file_extension": ".py",
   "mimetype": "text/x-python",
   "name": "python",
   "nbconvert_exporter": "python",
   "pygments_lexer": "ipython3",
   "version": "3.9.7"
  }
 },
 "nbformat": 4,
 "nbformat_minor": 5
}
