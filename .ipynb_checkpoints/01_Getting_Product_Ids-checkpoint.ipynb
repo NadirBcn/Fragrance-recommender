{
 "cells": [
  {
   "cell_type": "code",
   "execution_count": 1,
   "id": "777e94dc",
   "metadata": {},
   "outputs": [],
   "source": [
    "import pandas as pd"
   ]
  },
  {
   "cell_type": "code",
   "execution_count": 2,
   "id": "da721d12",
   "metadata": {},
   "outputs": [
    {
     "data": {
      "text/html": [
       "<div>\n",
       "<style scoped>\n",
       "    .dataframe tbody tr th:only-of-type {\n",
       "        vertical-align: middle;\n",
       "    }\n",
       "\n",
       "    .dataframe tbody tr th {\n",
       "        vertical-align: top;\n",
       "    }\n",
       "\n",
       "    .dataframe thead th {\n",
       "        text-align: right;\n",
       "    }\n",
       "</style>\n",
       "<table border=\"1\" class=\"dataframe\">\n",
       "  <thead>\n",
       "    <tr style=\"text-align: right;\">\n",
       "      <th></th>\n",
       "      <th>category</th>\n",
       "      <th>URL</th>\n",
       "    </tr>\n",
       "  </thead>\n",
       "  <tbody>\n",
       "    <tr>\n",
       "      <th>0</th>\n",
       "      <td>fragrance</td>\n",
       "      <td>https://www.sephora.com/product/sol-de-janeiro...</td>\n",
       "    </tr>\n",
       "    <tr>\n",
       "      <th>1</th>\n",
       "      <td>fragrance</td>\n",
       "      <td>https://www.sephora.com/product/brazilian-crus...</td>\n",
       "    </tr>\n",
       "    <tr>\n",
       "      <th>2</th>\n",
       "      <td>fragrance</td>\n",
       "      <td>https://www.sephora.com/product/chance-eau-ten...</td>\n",
       "    </tr>\n",
       "    <tr>\n",
       "      <th>3</th>\n",
       "      <td>fragrance</td>\n",
       "      <td>https://www.sephora.com/product/yves-saint-lau...</td>\n",
       "    </tr>\n",
       "    <tr>\n",
       "      <th>4</th>\n",
       "      <td>fragrance</td>\n",
       "      <td>https://www.sephora.com/product/sol-de-janeiro...</td>\n",
       "    </tr>\n",
       "  </tbody>\n",
       "</table>\n",
       "</div>"
      ],
      "text/plain": [
       "    category                                                URL\n",
       "0  fragrance  https://www.sephora.com/product/sol-de-janeiro...\n",
       "1  fragrance  https://www.sephora.com/product/brazilian-crus...\n",
       "2  fragrance  https://www.sephora.com/product/chance-eau-ten...\n",
       "3  fragrance  https://www.sephora.com/product/yves-saint-lau...\n",
       "4  fragrance  https://www.sephora.com/product/sol-de-janeiro..."
      ]
     },
     "execution_count": 2,
     "metadata": {},
     "output_type": "execute_result"
    }
   ],
   "source": [
    "#reading in the urls previously scrapped in 0_Getting_Data_Urls.ipynb\n",
    "urls = pd.read_csv('C:/Users/Nadir/Desktop/B/Projects/Fragrance_project/data/product_urls.csv')\n",
    "urls.head()"
   ]
  },
  {
   "cell_type": "code",
   "execution_count": 3,
   "id": "8dda05b9",
   "metadata": {},
   "outputs": [
    {
     "data": {
      "text/html": [
       "<div>\n",
       "<style scoped>\n",
       "    .dataframe tbody tr th:only-of-type {\n",
       "        vertical-align: middle;\n",
       "    }\n",
       "\n",
       "    .dataframe tbody tr th {\n",
       "        vertical-align: top;\n",
       "    }\n",
       "\n",
       "    .dataframe thead th {\n",
       "        text-align: right;\n",
       "    }\n",
       "</style>\n",
       "<table border=\"1\" class=\"dataframe\">\n",
       "  <thead>\n",
       "    <tr style=\"text-align: right;\">\n",
       "      <th></th>\n",
       "      <th>prod_id</th>\n",
       "    </tr>\n",
       "  </thead>\n",
       "  <tbody>\n",
       "    <tr>\n",
       "      <th>0</th>\n",
       "      <td>P483156</td>\n",
       "    </tr>\n",
       "    <tr>\n",
       "      <th>1</th>\n",
       "      <td>P417312</td>\n",
       "    </tr>\n",
       "    <tr>\n",
       "      <th>2</th>\n",
       "      <td>P258612</td>\n",
       "    </tr>\n",
       "    <tr>\n",
       "      <th>3</th>\n",
       "      <td>P470257</td>\n",
       "    </tr>\n",
       "    <tr>\n",
       "      <th>4</th>\n",
       "      <td>P472072</td>\n",
       "    </tr>\n",
       "    <tr>\n",
       "      <th>5</th>\n",
       "      <td>P12495</td>\n",
       "    </tr>\n",
       "    <tr>\n",
       "      <th>6</th>\n",
       "      <td>P449116</td>\n",
       "    </tr>\n",
       "    <tr>\n",
       "      <th>7</th>\n",
       "      <td>P442304</td>\n",
       "    </tr>\n",
       "    <tr>\n",
       "      <th>8</th>\n",
       "      <td>P394534</td>\n",
       "    </tr>\n",
       "    <tr>\n",
       "      <th>9</th>\n",
       "      <td>P474051</td>\n",
       "    </tr>\n",
       "  </tbody>\n",
       "</table>\n",
       "</div>"
      ],
      "text/plain": [
       "   prod_id\n",
       "0  P483156\n",
       "1  P417312\n",
       "2  P258612\n",
       "3  P470257\n",
       "4  P472072\n",
       "5   P12495\n",
       "6  P449116\n",
       "7  P442304\n",
       "8  P394534\n",
       "9  P474051"
      ]
     },
     "execution_count": 3,
     "metadata": {},
     "output_type": "execute_result"
    }
   ],
   "source": [
    "df_id = pd.DataFrame(columns=['prod_id'])\n",
    "product_id=[]\n",
    "\n",
    "for i in urls.index:\n",
    "    url = str(urls['URL'][i])  #Read url\n",
    "    \n",
    "    #Search for PRODUCT ID in the URL\n",
    "    start = url.find('-P') + 1\n",
    "    end = url.find('?', start)\n",
    "    \n",
    "    #Add the PRODUCT ID found in the url to a list \n",
    "    product_id.append(url[start:end])\n",
    "    \n",
    "    start=0\n",
    "    end=0\n",
    "\n",
    "df_id['prod_id'] = product_id   \n",
    "\n",
    "df_id.head(10)\n"
   ]
  },
  {
   "cell_type": "code",
   "execution_count": 6,
   "id": "1157d1f9",
   "metadata": {},
   "outputs": [],
   "source": [
    "df_output = df_id\n",
    "\n",
    "df_output.to_csv('C:/Users/Nadir/Desktop/B/Projects/Fragrance_project/data/data_products_ids.csv',index = False)"
   ]
  }
 ],
 "metadata": {
  "kernelspec": {
   "display_name": "Python 3 (ipykernel)",
   "language": "python",
   "name": "python3"
  },
  "language_info": {
   "codemirror_mode": {
    "name": "ipython",
    "version": 3
   },
   "file_extension": ".py",
   "mimetype": "text/x-python",
   "name": "python",
   "nbconvert_exporter": "python",
   "pygments_lexer": "ipython3",
   "version": "3.9.7"
  }
 },
 "nbformat": 4,
 "nbformat_minor": 5
}
