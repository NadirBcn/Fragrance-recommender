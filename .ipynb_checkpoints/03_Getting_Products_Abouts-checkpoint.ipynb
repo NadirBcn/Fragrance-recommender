{
 "cells": [
  {
   "cell_type": "code",
   "execution_count": 12,
   "id": "d9f58171",
   "metadata": {},
   "outputs": [],
   "source": [
    "from selenium.common.exceptions import NoSuchElementException, ElementClickInterceptedException\n",
    "from selenium import webdriver\n",
    "import time\n",
    "import pandas as pd\n",
    "\n",
    "from selenium.webdriver.support.ui import WebDriverWait\n",
    "from selenium.webdriver.common.by import By\n",
    "from selenium.webdriver.support import expected_conditions as EC\n",
    "from selenium.webdriver.common.action_chains import ActionChains\n",
    "from selenium.webdriver.common.keys import Keys"
   ]
  },
  {
   "cell_type": "code",
   "execution_count": 13,
   "id": "b8618a79",
   "metadata": {},
   "outputs": [],
   "source": [
    "urls = pd.read_csv('C:/Users/Nadir/Desktop/B/Projects/Fragrance_project/data/product_urls.csv')"
   ]
  },
  {
   "cell_type": "code",
   "execution_count": 14,
   "id": "dc904544",
   "metadata": {},
   "outputs": [],
   "source": [
    "def scrollDown(driver, n_scroll):\n",
    "    body = driver.find_element_by_tag_name(\"body\")\n",
    "    while n_scroll >= 0:\n",
    "        body.send_keys(Keys.PAGE_DOWN)\n",
    "        n_scroll -= 1\n",
    "    return driver"
   ]
  },
  {
   "cell_type": "code",
   "execution_count": 15,
   "id": "a6b0bf4f",
   "metadata": {},
   "outputs": [
    {
     "name": "stderr",
     "output_type": "stream",
     "text": [
      "C:\\Users\\Nadir\\AppData\\Local\\Temp/ipykernel_10612/3463214551.py:2: DeprecationWarning: executable_path has been deprecated, please pass in a Service object\n",
      "  driver = webdriver.Chrome(executable_path = chrome_path)\n"
     ]
    },
    {
     "name": "stdout",
     "output_type": "stream",
     "text": [
      "Progress: 0\n"
     ]
    },
    {
     "name": "stderr",
     "output_type": "stream",
     "text": [
      "C:\\Users\\Nadir\\AppData\\Local\\Temp/ipykernel_10612/3463214551.py:18: DeprecationWarning: find_element_by_class_name is deprecated. Please use find_element(by=By.CLASS_NAME, value=name) instead\n",
      "  if driver.find_element_by_class_name('css-2td14d.e65zztl0').is_displayed():\n",
      "C:\\Users\\Nadir\\AppData\\Local\\Temp/ipykernel_10612/3463214551.py:26: DeprecationWarning: find_element_by_class_name is deprecated. Please use find_element(by=By.CLASS_NAME, value=name) instead\n",
      "  btn = driver.find_element_by_class_name('css-1kna575').click()\n",
      "C:\\Users\\Nadir\\AppData\\Local\\Temp/ipykernel_10612/1452244666.py:2: DeprecationWarning: find_element_by_tag_name is deprecated. Please use find_element(by=By.TAG_NAME, value=name) instead\n",
      "  body = driver.find_element_by_tag_name(\"body\")\n",
      "C:\\Users\\Nadir\\AppData\\Local\\Temp/ipykernel_10612/3463214551.py:37: DeprecationWarning: find_elements_by_class_name is deprecated. Please use find_elements(by=By.CLASS_NAME, value=name) instead\n",
      "  slug = driver.find_elements_by_class_name('css-klx76') #look for the urls of products\n",
      "C:\\Users\\Nadir\\AppData\\Local\\Temp/ipykernel_10612/3463214551.py:45: DeprecationWarning: find_element_by_xpath is deprecated. Please use find_element(by=By.XPATH, value=xpath) instead\n",
      "  price = driver.find_element_by_xpath('/html/body/div[2]/main/div[1]/div[1]/div[1]/div[2]/p/span/span[1]/b').text\n",
      "C:\\Users\\Nadir\\AppData\\Local\\Temp/ipykernel_10612/3463214551.py:50: DeprecationWarning: find_element_by_xpath is deprecated. Please use find_element(by=By.XPATH, value=xpath) instead\n",
      "  abouts = driver.find_element_by_xpath('/html/body/div[2]/main/div[1]/div[6]/div[2]/div').text\n"
     ]
    },
    {
     "name": "stdout",
     "output_type": "stream",
     "text": [
      "Progress: 1\n",
      "Progress: 2\n"
     ]
    },
    {
     "ename": "WebDriverException",
     "evalue": "Message: unknown error: unexpected command response\n  (Session info: chrome=103.0.5060.53)\nStacktrace:\nBacktrace:\n\tOrdinal0 [0x00FE6463+2188387]\n\tOrdinal0 [0x00F7E461+1762401]\n\tOrdinal0 [0x00E93D78+802168]\n\tOrdinal0 [0x00E87210+750096]\n\tOrdinal0 [0x00E8675A+747354]\n\tOrdinal0 [0x00E85D3F+744767]\n\tOrdinal0 [0x00E8557C+742780]\n\tOrdinal0 [0x00E99BF3+826355]\n\tOrdinal0 [0x00EECF6D+1167213]\n\tOrdinal0 [0x00EDC5F6+1099254]\n\tOrdinal0 [0x00EB6BE0+945120]\n\tOrdinal0 [0x00EB7AD6+948950]\n\tGetHandleVerifier [0x012871F2+2712546]\n\tGetHandleVerifier [0x0127886D+2652765]\n\tGetHandleVerifier [0x0107002A+520730]\n\tGetHandleVerifier [0x0106EE06+516086]\n\tOrdinal0 [0x00F8468B+1787531]\n\tOrdinal0 [0x00F88E88+1805960]\n\tOrdinal0 [0x00F88F75+1806197]\n\tOrdinal0 [0x00F91DF1+1842673]\n\tBaseThreadInitThunk [0x75DF0419+25]\n\tRtlGetAppContainerNamedObjectPath [0x7712662D+237]\n\tRtlGetAppContainerNamedObjectPath [0x771265FD+189]\n",
     "output_type": "error",
     "traceback": [
      "\u001b[1;31m---------------------------------------------------------------------------\u001b[0m",
      "\u001b[1;31mWebDriverException\u001b[0m                        Traceback (most recent call last)",
      "\u001b[1;32m~\\AppData\\Local\\Temp/ipykernel_10612/3463214551.py\u001b[0m in \u001b[0;36m<module>\u001b[1;34m\u001b[0m\n\u001b[0;32m      9\u001b[0m \u001b[1;32mfor\u001b[0m \u001b[0mi\u001b[0m \u001b[1;32min\u001b[0m \u001b[0murls\u001b[0m\u001b[1;33m.\u001b[0m\u001b[0mindex\u001b[0m\u001b[1;33m:\u001b[0m\u001b[1;33m\u001b[0m\u001b[1;33m\u001b[0m\u001b[0m\n\u001b[0;32m     10\u001b[0m     \u001b[0murl\u001b[0m \u001b[1;33m=\u001b[0m \u001b[0mstr\u001b[0m\u001b[1;33m(\u001b[0m\u001b[0murls\u001b[0m\u001b[1;33m[\u001b[0m\u001b[1;34m'URL'\u001b[0m\u001b[1;33m]\u001b[0m\u001b[1;33m[\u001b[0m\u001b[0mi\u001b[0m\u001b[1;33m]\u001b[0m\u001b[1;33m)\u001b[0m  \u001b[1;31m#Read url\u001b[0m\u001b[1;33m\u001b[0m\u001b[1;33m\u001b[0m\u001b[0m\n\u001b[1;32m---> 11\u001b[1;33m     \u001b[0mdriver\u001b[0m\u001b[1;33m.\u001b[0m\u001b[0mget\u001b[0m\u001b[1;33m(\u001b[0m\u001b[0murl\u001b[0m\u001b[1;33m)\u001b[0m\u001b[1;33m\u001b[0m\u001b[1;33m\u001b[0m\u001b[0m\n\u001b[0m\u001b[0;32m     12\u001b[0m  \u001b[1;31m#give it time to load\u001b[0m\u001b[1;33m\u001b[0m\u001b[1;33m\u001b[0m\u001b[0m\n\u001b[0;32m     13\u001b[0m \u001b[1;33m\u001b[0m\u001b[0m\n",
      "\u001b[1;32mE:\\anaconda3\\lib\\site-packages\\selenium\\webdriver\\remote\\webdriver.py\u001b[0m in \u001b[0;36mget\u001b[1;34m(self, url)\u001b[0m\n\u001b[0;32m    435\u001b[0m         \u001b[0mLoads\u001b[0m \u001b[0ma\u001b[0m \u001b[0mweb\u001b[0m \u001b[0mpage\u001b[0m \u001b[1;32min\u001b[0m \u001b[0mthe\u001b[0m \u001b[0mcurrent\u001b[0m \u001b[0mbrowser\u001b[0m \u001b[0msession\u001b[0m\u001b[1;33m.\u001b[0m\u001b[1;33m\u001b[0m\u001b[1;33m\u001b[0m\u001b[0m\n\u001b[0;32m    436\u001b[0m         \"\"\"\n\u001b[1;32m--> 437\u001b[1;33m         \u001b[0mself\u001b[0m\u001b[1;33m.\u001b[0m\u001b[0mexecute\u001b[0m\u001b[1;33m(\u001b[0m\u001b[0mCommand\u001b[0m\u001b[1;33m.\u001b[0m\u001b[0mGET\u001b[0m\u001b[1;33m,\u001b[0m \u001b[1;33m{\u001b[0m\u001b[1;34m'url'\u001b[0m\u001b[1;33m:\u001b[0m \u001b[0murl\u001b[0m\u001b[1;33m}\u001b[0m\u001b[1;33m)\u001b[0m\u001b[1;33m\u001b[0m\u001b[1;33m\u001b[0m\u001b[0m\n\u001b[0m\u001b[0;32m    438\u001b[0m \u001b[1;33m\u001b[0m\u001b[0m\n\u001b[0;32m    439\u001b[0m     \u001b[1;33m@\u001b[0m\u001b[0mproperty\u001b[0m\u001b[1;33m\u001b[0m\u001b[1;33m\u001b[0m\u001b[0m\n",
      "\u001b[1;32mE:\\anaconda3\\lib\\site-packages\\selenium\\webdriver\\remote\\webdriver.py\u001b[0m in \u001b[0;36mexecute\u001b[1;34m(self, driver_command, params)\u001b[0m\n\u001b[0;32m    423\u001b[0m         \u001b[0mresponse\u001b[0m \u001b[1;33m=\u001b[0m \u001b[0mself\u001b[0m\u001b[1;33m.\u001b[0m\u001b[0mcommand_executor\u001b[0m\u001b[1;33m.\u001b[0m\u001b[0mexecute\u001b[0m\u001b[1;33m(\u001b[0m\u001b[0mdriver_command\u001b[0m\u001b[1;33m,\u001b[0m \u001b[0mparams\u001b[0m\u001b[1;33m)\u001b[0m\u001b[1;33m\u001b[0m\u001b[1;33m\u001b[0m\u001b[0m\n\u001b[0;32m    424\u001b[0m         \u001b[1;32mif\u001b[0m \u001b[0mresponse\u001b[0m\u001b[1;33m:\u001b[0m\u001b[1;33m\u001b[0m\u001b[1;33m\u001b[0m\u001b[0m\n\u001b[1;32m--> 425\u001b[1;33m             \u001b[0mself\u001b[0m\u001b[1;33m.\u001b[0m\u001b[0merror_handler\u001b[0m\u001b[1;33m.\u001b[0m\u001b[0mcheck_response\u001b[0m\u001b[1;33m(\u001b[0m\u001b[0mresponse\u001b[0m\u001b[1;33m)\u001b[0m\u001b[1;33m\u001b[0m\u001b[1;33m\u001b[0m\u001b[0m\n\u001b[0m\u001b[0;32m    426\u001b[0m             response['value'] = self._unwrap_value(\n\u001b[0;32m    427\u001b[0m                 response.get('value', None))\n",
      "\u001b[1;32mE:\\anaconda3\\lib\\site-packages\\selenium\\webdriver\\remote\\errorhandler.py\u001b[0m in \u001b[0;36mcheck_response\u001b[1;34m(self, response)\u001b[0m\n\u001b[0;32m    245\u001b[0m                 \u001b[0malert_text\u001b[0m \u001b[1;33m=\u001b[0m \u001b[0mvalue\u001b[0m\u001b[1;33m[\u001b[0m\u001b[1;34m'alert'\u001b[0m\u001b[1;33m]\u001b[0m\u001b[1;33m.\u001b[0m\u001b[0mget\u001b[0m\u001b[1;33m(\u001b[0m\u001b[1;34m'text'\u001b[0m\u001b[1;33m)\u001b[0m\u001b[1;33m\u001b[0m\u001b[1;33m\u001b[0m\u001b[0m\n\u001b[0;32m    246\u001b[0m             \u001b[1;32mraise\u001b[0m \u001b[0mexception_class\u001b[0m\u001b[1;33m(\u001b[0m\u001b[0mmessage\u001b[0m\u001b[1;33m,\u001b[0m \u001b[0mscreen\u001b[0m\u001b[1;33m,\u001b[0m \u001b[0mstacktrace\u001b[0m\u001b[1;33m,\u001b[0m \u001b[0malert_text\u001b[0m\u001b[1;33m)\u001b[0m  \u001b[1;31m# type: ignore[call-arg]  # mypy is not smart enough here\u001b[0m\u001b[1;33m\u001b[0m\u001b[1;33m\u001b[0m\u001b[0m\n\u001b[1;32m--> 247\u001b[1;33m         \u001b[1;32mraise\u001b[0m \u001b[0mexception_class\u001b[0m\u001b[1;33m(\u001b[0m\u001b[0mmessage\u001b[0m\u001b[1;33m,\u001b[0m \u001b[0mscreen\u001b[0m\u001b[1;33m,\u001b[0m \u001b[0mstacktrace\u001b[0m\u001b[1;33m)\u001b[0m\u001b[1;33m\u001b[0m\u001b[1;33m\u001b[0m\u001b[0m\n\u001b[0m\u001b[0;32m    248\u001b[0m \u001b[1;33m\u001b[0m\u001b[0m\n\u001b[0;32m    249\u001b[0m     \u001b[1;32mdef\u001b[0m \u001b[0m_value_or_default\u001b[0m\u001b[1;33m(\u001b[0m\u001b[0mself\u001b[0m\u001b[1;33m,\u001b[0m \u001b[0mobj\u001b[0m\u001b[1;33m:\u001b[0m \u001b[0mMapping\u001b[0m\u001b[1;33m[\u001b[0m\u001b[0m_KT\u001b[0m\u001b[1;33m,\u001b[0m \u001b[0m_VT\u001b[0m\u001b[1;33m]\u001b[0m\u001b[1;33m,\u001b[0m \u001b[0mkey\u001b[0m\u001b[1;33m:\u001b[0m \u001b[0m_KT\u001b[0m\u001b[1;33m,\u001b[0m \u001b[0mdefault\u001b[0m\u001b[1;33m:\u001b[0m \u001b[0m_VT\u001b[0m\u001b[1;33m)\u001b[0m \u001b[1;33m->\u001b[0m \u001b[0m_VT\u001b[0m\u001b[1;33m:\u001b[0m\u001b[1;33m\u001b[0m\u001b[1;33m\u001b[0m\u001b[0m\n",
      "\u001b[1;31mWebDriverException\u001b[0m: Message: unknown error: unexpected command response\n  (Session info: chrome=103.0.5060.53)\nStacktrace:\nBacktrace:\n\tOrdinal0 [0x00FE6463+2188387]\n\tOrdinal0 [0x00F7E461+1762401]\n\tOrdinal0 [0x00E93D78+802168]\n\tOrdinal0 [0x00E87210+750096]\n\tOrdinal0 [0x00E8675A+747354]\n\tOrdinal0 [0x00E85D3F+744767]\n\tOrdinal0 [0x00E8557C+742780]\n\tOrdinal0 [0x00E99BF3+826355]\n\tOrdinal0 [0x00EECF6D+1167213]\n\tOrdinal0 [0x00EDC5F6+1099254]\n\tOrdinal0 [0x00EB6BE0+945120]\n\tOrdinal0 [0x00EB7AD6+948950]\n\tGetHandleVerifier [0x012871F2+2712546]\n\tGetHandleVerifier [0x0127886D+2652765]\n\tGetHandleVerifier [0x0107002A+520730]\n\tGetHandleVerifier [0x0106EE06+516086]\n\tOrdinal0 [0x00F8468B+1787531]\n\tOrdinal0 [0x00F88E88+1805960]\n\tOrdinal0 [0x00F88F75+1806197]\n\tOrdinal0 [0x00F91DF1+1842673]\n\tBaseThreadInitThunk [0x75DF0419+25]\n\tRtlGetAppContainerNamedObjectPath [0x7712662D+237]\n\tRtlGetAppContainerNamedObjectPath [0x771265FD+189]\n"
     ]
    }
   ],
   "source": [
    "chrome_path = \"C:/Users/Nadir/Desktop/B/Projects/Fragrance_project/chromedriver\"\n",
    "driver = webdriver.Chrome(executable_path = chrome_path)\n",
    "\n",
    "cols = ['Price','About','family','scent_type','key_notes']\n",
    "final_df = pd.DataFrame(columns = ['cols'])\n",
    "\n",
    "about=[]\n",
    "\n",
    "for i in urls.index:\n",
    "    url = str(urls['URL'][i])  #Read url\n",
    "    driver.get(url)\n",
    " #give it time to load\n",
    "\n",
    "    print(\"Progress: {}\".format(\"\" + str(len(about)) ) )\n",
    "    \n",
    "        \n",
    "    try: #check to see if the page is empty   \n",
    "        if driver.find_element_by_class_name('css-2td14d.e65zztl0').is_displayed():\n",
    "            break\n",
    "            \n",
    "    except:\n",
    "            #check to see if there is a pop up windew\n",
    "        try:\n",
    "            #exit the pop up window\n",
    "            #btn = driver.find_element_by_xpath('//*[@id=\"modalDialog\"]/button').click()\n",
    "            btn = driver.find_element_by_class_name('css-1kna575').click()\n",
    "#             time.sleep(1)\n",
    "        except:\n",
    "            pass\n",
    "            \n",
    "            \n",
    "    #as scrolling check if there is any more room to scroll\n",
    "    old_len = 0\n",
    "    while True:\n",
    "            browser = scrollDown(driver, 20) #scroll down the page\n",
    "            time.sleep(1) #give it time to load\n",
    "            slug = driver.find_elements_by_class_name('css-klx76') #look for the urls of products\n",
    "            new_len = len(slug)\n",
    "            if old_len == new_len: #if the old length and new length are equal, the bottom of page was reached\n",
    "                break\n",
    "            else:\n",
    "                old_len = new_len\n",
    "                \n",
    "    try:\n",
    "        price = driver.find_element_by_xpath('/html/body/div[2]/main/div[1]/div[1]/div[1]/div[2]/p/span/span[1]/b').text\n",
    "    except NoSuchElementException:\n",
    "        pass\n",
    "    \n",
    "    try:\n",
    "        abouts = driver.find_element_by_xpath('/html/body/div[2]/main/div[1]/div[6]/div[2]/div').text\n",
    "    except NoSuchElementException:\n",
    "        pass\n",
    "    \n",
    "#     try:\n",
    "#         what_it_is = driver.find_element_by_xpath('/html/body/div[2]/main/div[1]/div[6]/div[2]/div/div/text()[1]/text()').text\n",
    "#     except NoSuchElementException:\n",
    "#         pass\n",
    "    \n",
    "#     try:\n",
    "#         family = driver.find_element_by_xpath('/html/body/div[2]/main/div[1]/div[4]/div[2]/div/div/b[1]/text()').text\n",
    "#     except NoSuchElementException:\n",
    "#         pass\n",
    "    \n",
    "#     try:\n",
    "#         type_ = driver.find_element_by_xpath('/html/body/div[2]/main/div[1]/div[4]/div[2]/div/div/b[2]/text()').text\n",
    "        \n",
    "#     except NoSuchElementException:\n",
    "#         pass\n",
    "    \n",
    "#     try:\n",
    "#         note = driver.find_element_by_xpath('/html/body/div[2]/main/div[1]/div[4]/div[2]/div/div/b[3]/text()').text\n",
    "#     except NoSuchElementException:\n",
    "#         pass\n",
    "    \n",
    "\n",
    "    about.append({\"price\":price,\n",
    "                 \"about\":abouts})\n",
    "    \n",
    "#     about.append({\"price\":price,\n",
    "#                  \"what_it_is\":what_it_is,\n",
    "#                  \"family\":family,\n",
    "#                  \"type\":type_,\n",
    "#                  \"note\":note})\n",
    "    \n",
    "    df = pd.DataFrame(about)\n",
    "\n",
    "    final_df = pd.concat([final_df, df], axis = 0, ignore_index = True) \n",
    "    \n",
    "#close the chrome\n",
    "driver.close()"
   ]
  },
  {
   "cell_type": "code",
   "execution_count": 16,
   "id": "1e08574c",
   "metadata": {},
   "outputs": [
    {
     "data": {
      "text/html": [
       "<div>\n",
       "<style scoped>\n",
       "    .dataframe tbody tr th:only-of-type {\n",
       "        vertical-align: middle;\n",
       "    }\n",
       "\n",
       "    .dataframe tbody tr th {\n",
       "        vertical-align: top;\n",
       "    }\n",
       "\n",
       "    .dataframe thead th {\n",
       "        text-align: right;\n",
       "    }\n",
       "</style>\n",
       "<table border=\"1\" class=\"dataframe\">\n",
       "  <thead>\n",
       "    <tr style=\"text-align: right;\">\n",
       "      <th></th>\n",
       "      <th>price</th>\n",
       "      <th>about</th>\n",
       "    </tr>\n",
       "  </thead>\n",
       "  <tbody>\n",
       "    <tr>\n",
       "      <th>0</th>\n",
       "      <td>$35.00</td>\n",
       "      <td>What it is: A hair and body mist with notes of...</td>\n",
       "    </tr>\n",
       "    <tr>\n",
       "      <th>1</th>\n",
       "      <td>$35.00</td>\n",
       "      <td>Frag Family: Warm &amp; Spicy\\nFrag Type: Warm &amp; S...</td>\n",
       "    </tr>\n",
       "    <tr>\n",
       "      <th>2</th>\n",
       "      <td>$35.00</td>\n",
       "      <td>Frag Family: Warm &amp; Spicy\\nFrag Type: Warm &amp; S...</td>\n",
       "    </tr>\n",
       "  </tbody>\n",
       "</table>\n",
       "</div>"
      ],
      "text/plain": [
       "    price                                              about\n",
       "0  $35.00  What it is: A hair and body mist with notes of...\n",
       "1  $35.00  Frag Family: Warm & Spicy\\nFrag Type: Warm & S...\n",
       "2  $35.00  Frag Family: Warm & Spicy\\nFrag Type: Warm & S..."
      ]
     },
     "execution_count": 16,
     "metadata": {},
     "output_type": "execute_result"
    }
   ],
   "source": [
    "df"
   ]
  },
  {
   "cell_type": "code",
   "execution_count": null,
   "id": "10ff2dd1",
   "metadata": {},
   "outputs": [],
   "source": []
  }
 ],
 "metadata": {
  "kernelspec": {
   "display_name": "Python 3 (ipykernel)",
   "language": "python",
   "name": "python3"
  },
  "language_info": {
   "codemirror_mode": {
    "name": "ipython",
    "version": 3
   },
   "file_extension": ".py",
   "mimetype": "text/x-python",
   "name": "python",
   "nbconvert_exporter": "python",
   "pygments_lexer": "ipython3",
   "version": "3.9.7"
  }
 },
 "nbformat": 4,
 "nbformat_minor": 5
}
